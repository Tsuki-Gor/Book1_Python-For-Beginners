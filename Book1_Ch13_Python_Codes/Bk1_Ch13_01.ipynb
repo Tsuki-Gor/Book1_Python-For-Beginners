{
 "cells": [
  {
   "cell_type": "markdown",
   "id": "c2b7da21-f761-4b32-9b9e-f8985e2f8dc9",
   "metadata": {},
   "source": [
    "Chapter 13\n",
    "# 聊聊NumPy\n",
    "Book_1《编程不难》 | 鸢尾花书：从加减乘除到机器学习  "
   ]
  },
  {
   "cell_type": "code",
   "id": "b7fd0dce-2785-492d-8c71-40feddea5500",
   "metadata": {
    "ExecuteTime": {
     "end_time": "2024-08-11T10:16:18.602962Z",
     "start_time": "2024-08-11T10:16:18.597838Z"
    }
   },
   "source": [
    "# 导入包\n",
    "import numpy as np\n",
    "import seaborn as sns\n",
    "import matplotlib.pyplot as plt\n",
    "import math\n",
    "from matplotlib import cm \n",
    "\n",
    "import os\n",
    "\n",
    "# 如果文件夹不存在，创建文件夹\n",
    "if not os.path.isdir(\"Figures\"): # 具体来说，检查的是当前目录下是否有Figures文件夹\n",
    "    os.makedirs(\"Figures\")"
   ],
   "outputs": [],
   "execution_count": 44
  },
  {
   "cell_type": "markdown",
   "id": "935155c5-46b4-4889-913f-f7c5f7c1f071",
   "metadata": {},
   "source": [
    "## 自定义可视化函数"
   ]
  },
  {
   "cell_type": "code",
   "id": "d4df62e5-871e-405d-8218-6f0bd2cf4265",
   "metadata": {
    "ExecuteTime": {
     "end_time": "2024-08-11T10:16:20.338747Z",
     "start_time": "2024-08-11T10:16:20.331342Z"
    }
   },
   "source": [
    "def visualize_2D(array, title, vmax, vmin):\n",
    "    \n",
    "    fig_width  = math.ceil(array.shape[1] * 0.5)\n",
    "    fig_length = math.ceil(array.shape[0] * 0.5)\n",
    "    \n",
    "    fig, ax = plt.subplots(figsize=(fig_width, fig_length))\n",
    "    # 注意，seaborn.heatmap() 目前只能接受2D数组\n",
    "    # 本书中，一维数组可视化时用圆圈\n",
    "    # 可视化时，只有二维、三维数组用方块\n",
    "    \n",
    "    sns.heatmap(array, \n",
    "                vmax = vmax,\n",
    "                vmin = vmin,\n",
    "                annot = True,      # 增加注释\n",
    "                fmt = \".0f\",       # 注释数值的格式\n",
    "                square = True,     # 热图方格为正方形\n",
    "                cmap = 'RdYlBu_r', # 指定色谱\n",
    "                linewidths = .5,   # 方格线宽\n",
    "                cbar = False,      # 不显示色谱条\n",
    "                yticklabels=False, # 不显示纵轴标签\n",
    "                xticklabels=False, # 不显示横轴标签\n",
    "                ax = ax)           # 指定绘制热图的轴\n",
    "    \n",
    "    fig.savefig('Figures/' + title + '.svg', format='svg')\n",
    "\n",
    "# 定义绘制一元数组可视化函数\n",
    "\n",
    "def visualize_1D(array, title):\n",
    "    fig, ax = plt.subplots()\n",
    "\n",
    "    colors = cm.RdYlBu_r(np.linspace(0,1,len(array)))\n",
    "\n",
    "    for idx in range(len(array)):\n",
    "\n",
    "        circle_idx = plt.Circle((idx, 0), 0.5, facecolor=colors[idx], edgecolor = 'w')\n",
    "        ax.add_patch(circle_idx)\n",
    "        ax.text(idx, 0, s = str(array[idx]),\n",
    "                horizontalalignment = 'center',\n",
    "                verticalalignment = 'center')\n",
    "\n",
    "    ax.set_xlim(-0.6, 0.6 + len(array))\n",
    "    ax.set_ylim(-0.6, 0.6)\n",
    "    ax.set_aspect('equal', adjustable='box')\n",
    "    ax.axis('off')\n",
    "    fig.savefig('Figures/' + title + '.svg', format='svg')\n"
   ],
   "outputs": [],
   "execution_count": 45
  },
  {
   "cell_type": "markdown",
   "id": "c39fe25a-c8d8-41b4-8051-982538c46f7c",
   "metadata": {},
   "source": [
    "## 手动"
   ]
  },
  {
   "cell_type": "markdown",
   "id": "a17f8e67-0ade-44fd-9149-deea95556e4d",
   "metadata": {},
   "source": [
    "### 一维"
   ]
  },
  {
   "cell_type": "code",
   "id": "51ab495d-f96b-4f57-807a-e0145fa142de",
   "metadata": {
    "ExecuteTime": {
     "end_time": "2024-08-11T10:16:20.398626Z",
     "start_time": "2024-08-11T10:16:20.393744Z"
    }
   },
   "source": [
    "a_1D = np.array([-3, -2, -1, 0, 1, 2, 3])\n",
    "a_1D"
   ],
   "outputs": [
    {
     "data": {
      "text/plain": [
       "array([-3, -2, -1,  0,  1,  2,  3])"
      ]
     },
     "execution_count": 46,
     "metadata": {},
     "output_type": "execute_result"
    }
   ],
   "execution_count": 46
  },
  {
   "cell_type": "code",
   "id": "85492ce3-2e4e-42ae-a5eb-094820ac40a7",
   "metadata": {
    "ExecuteTime": {
     "end_time": "2024-08-11T10:16:20.489286Z",
     "start_time": "2024-08-11T10:16:20.485196Z"
    }
   },
   "source": [
    "a_1D.shape"
   ],
   "outputs": [
    {
     "data": {
      "text/plain": [
       "(7,)"
      ]
     },
     "execution_count": 47,
     "metadata": {},
     "output_type": "execute_result"
    }
   ],
   "execution_count": 47
  },
  {
   "cell_type": "code",
   "id": "3ea8e56c-c067-42a5-8a37-ef9d06e6ad25",
   "metadata": {
    "ExecuteTime": {
     "end_time": "2024-08-11T10:16:20.529284Z",
     "start_time": "2024-08-11T10:16:20.524285Z"
    }
   },
   "source": [
    "len(a_1D)"
   ],
   "outputs": [
    {
     "data": {
      "text/plain": [
       "7"
      ]
     },
     "execution_count": 48,
     "metadata": {},
     "output_type": "execute_result"
    }
   ],
   "execution_count": 48
  },
  {
   "cell_type": "code",
   "id": "2e64d64d-f0ad-4c2f-af1a-f3f0fe3f7cc8",
   "metadata": {
    "ExecuteTime": {
     "end_time": "2024-08-11T10:16:20.624280Z",
     "start_time": "2024-08-11T10:16:20.619901Z"
    }
   },
   "source": [
    "a_1D.ndim"
   ],
   "outputs": [
    {
     "data": {
      "text/plain": [
       "1"
      ]
     },
     "execution_count": 49,
     "metadata": {},
     "output_type": "execute_result"
    }
   ],
   "execution_count": 49
  },
  {
   "cell_type": "code",
   "id": "d84502fc-befe-4faf-9aa0-5ddda984d329",
   "metadata": {
    "ExecuteTime": {
     "end_time": "2024-08-11T10:16:20.703843Z",
     "start_time": "2024-08-11T10:16:20.698852Z"
    }
   },
   "source": [
    "a_1D.size"
   ],
   "outputs": [
    {
     "data": {
      "text/plain": [
       "7"
      ]
     },
     "execution_count": 50,
     "metadata": {},
     "output_type": "execute_result"
    }
   ],
   "execution_count": 50
  },
  {
   "cell_type": "code",
   "id": "73132f47-7704-4872-8736-f0b5e79d6800",
   "metadata": {
    "ExecuteTime": {
     "end_time": "2024-08-11T10:16:20.949884Z",
     "start_time": "2024-08-11T10:16:20.799573Z"
    }
   },
   "source": [
    "visualize_1D(a_1D, '手动，一维')"
   ],
   "outputs": [
    {
     "data": {
      "text/plain": [
       "<Figure size 640x480 with 1 Axes>"
      ],
      "image/png": "[encoded data removed]"
     },
     "metadata": {},
     "output_type": "display_data"
    }
   ],
   "execution_count": 51
  },
  {
   "cell_type": "code",
   "id": "81449350-1908-4a7c-87db-6ab5edf9b72e",
   "metadata": {
    "ExecuteTime": {
     "end_time": "2024-08-11T10:16:20.956774Z",
     "start_time": "2024-08-11T10:16:20.950880Z"
    }
   },
   "source": [
    "# 取出第一个元素\n",
    "a_1D[0]"
   ],
   "outputs": [
    {
     "data": {
      "text/plain": [
       "-3"
      ]
     },
     "execution_count": 52,
     "metadata": {},
     "output_type": "execute_result"
    }
   ],
   "execution_count": 52
  },
  {
   "cell_type": "code",
   "id": "fa87183d-34ff-4623-9e25-291674224856",
   "metadata": {
    "ExecuteTime": {
     "end_time": "2024-08-11T10:16:21.024602Z",
     "start_time": "2024-08-11T10:16:21.020359Z"
    }
   },
   "source": [
    "# 取出最后一个元素\n",
    "a_1D[-1]"
   ],
   "outputs": [
    {
     "data": {
      "text/plain": [
       "3"
      ]
     },
     "execution_count": 53,
     "metadata": {},
     "output_type": "execute_result"
    }
   ],
   "execution_count": 53
  },
  {
   "cell_type": "markdown",
   "id": "742a1248-073a-4269-9684-87efa4c9b112",
   "metadata": {},
   "source": [
    "### 二维"
   ]
  },
  {
   "cell_type": "code",
   "id": "8c018b30-9bf3-4e9e-a14b-362296c14cda",
   "metadata": {
    "ExecuteTime": {
     "end_time": "2024-08-11T10:16:21.055941Z",
     "start_time": "2024-08-11T10:16:21.051291Z"
    }
   },
   "source": [
    "a_2D = np.array([[-3, -2, -1],\n",
    "                 [0,  1,  2]])\n",
    "a_2D"
   ],
   "outputs": [
    {
     "data": {
      "text/plain": [
       "array([[-3, -2, -1],\n",
       "       [ 0,  1,  2]])"
      ]
     },
     "execution_count": 54,
     "metadata": {},
     "output_type": "execute_result"
    }
   ],
   "execution_count": 54
  },
  {
   "cell_type": "code",
   "id": "dfce8a4a-ee7c-4713-862d-7bb351286842",
   "metadata": {
    "ExecuteTime": {
     "end_time": "2024-08-11T10:16:21.253398Z",
     "start_time": "2024-08-11T10:16:21.192720Z"
    }
   },
   "source": [
    "visualize_2D(a_2D, '手动，二维', 3, -3)"
   ],
   "outputs": [
    {
     "data": {
      "text/plain": [
       "<Figure size 200x100 with 1 Axes>"
      ],
      "image/png": "[encoded data removed]"
     },
     "metadata": {},
     "output_type": "display_data"
    }
   ],
   "execution_count": 55
  },
  {
   "cell_type": "code",
   "id": "cf21c0de-4d9a-41b2-89dd-0193cb9f50f9",
   "metadata": {
    "ExecuteTime": {
     "end_time": "2024-08-11T10:16:21.268392Z",
     "start_time": "2024-08-11T10:16:21.263398Z"
    }
   },
   "source": [
    "a_2D.shape"
   ],
   "outputs": [
    {
     "data": {
      "text/plain": [
       "(2, 3)"
      ]
     },
     "execution_count": 56,
     "metadata": {},
     "output_type": "execute_result"
    }
   ],
   "execution_count": 56
  },
  {
   "cell_type": "code",
   "id": "9cff456a-feab-49ae-903e-052de75f897d",
   "metadata": {
    "ExecuteTime": {
     "end_time": "2024-08-11T10:16:21.399148Z",
     "start_time": "2024-08-11T10:16:21.393618Z"
    }
   },
   "source": [
    "a_2D.shape[0]\n",
    "# 行数"
   ],
   "outputs": [
    {
     "data": {
      "text/plain": [
       "2"
      ]
     },
     "execution_count": 57,
     "metadata": {},
     "output_type": "execute_result"
    }
   ],
   "execution_count": 57
  },
  {
   "cell_type": "code",
   "id": "95987c06-7ef4-4e80-bae6-ce1dedea2c8e",
   "metadata": {
    "ExecuteTime": {
     "end_time": "2024-08-11T10:16:21.529666Z",
     "start_time": "2024-08-11T10:16:21.524137Z"
    }
   },
   "source": [
    "a_2D.shape[1]\n",
    "# 列数"
   ],
   "outputs": [
    {
     "data": {
      "text/plain": [
       "3"
      ]
     },
     "execution_count": 58,
     "metadata": {},
     "output_type": "execute_result"
    }
   ],
   "execution_count": 58
  },
  {
   "cell_type": "code",
   "id": "4943260c-0eb7-46e5-ab22-ac450521115b",
   "metadata": {
    "ExecuteTime": {
     "end_time": "2024-08-11T10:16:21.639197Z",
     "start_time": "2024-08-11T10:16:21.635005Z"
    }
   },
   "source": [
    "a_2D.ndim"
   ],
   "outputs": [
    {
     "data": {
      "text/plain": [
       "2"
      ]
     },
     "execution_count": 59,
     "metadata": {},
     "output_type": "execute_result"
    }
   ],
   "execution_count": 59
  },
  {
   "cell_type": "code",
   "id": "8fd772a3-129a-4d71-aec5-378c53205705",
   "metadata": {
    "ExecuteTime": {
     "end_time": "2024-08-11T10:16:21.746982Z",
     "start_time": "2024-08-11T10:16:21.742768Z"
    }
   },
   "source": [
    "a_2D.size"
   ],
   "outputs": [
    {
     "data": {
      "text/plain": [
       "6"
      ]
     },
     "execution_count": 60,
     "metadata": {},
     "output_type": "execute_result"
    }
   ],
   "execution_count": 60
  },
  {
   "cell_type": "code",
   "id": "14bc377f-62db-4101-a741-88c7e12470f1",
   "metadata": {
    "ExecuteTime": {
     "end_time": "2024-08-11T10:16:21.818803Z",
     "start_time": "2024-08-11T10:16:21.812975Z"
    }
   },
   "source": [
    "len(a_2D)"
   ],
   "outputs": [
    {
     "data": {
      "text/plain": [
       "2"
      ]
     },
     "execution_count": 61,
     "metadata": {},
     "output_type": "execute_result"
    }
   ],
   "execution_count": 61
  },
  {
   "cell_type": "markdown",
   "id": "644b5d4c-be85-4a41-8541-9c0a99e8ab3f",
   "metadata": {},
   "source": [
    "### 二维，行向量"
   ]
  },
  {
   "cell_type": "code",
   "id": "e21140ad-43c9-4917-8949-bb53e3158465",
   "metadata": {
    "ExecuteTime": {
     "end_time": "2024-08-11T10:16:21.922381Z",
     "start_time": "2024-08-11T10:16:21.916381Z"
    }
   },
   "source": [
    "a_row_vector = np.array([[-3, -2, -1, 0, 1, 2, 3]])\n",
    "# 两层中括号\n",
    "a_row_vector"
   ],
   "outputs": [
    {
     "data": {
      "text/plain": [
       "array([[-3, -2, -1,  0,  1,  2,  3]])"
      ]
     },
     "execution_count": 62,
     "metadata": {},
     "output_type": "execute_result"
    }
   ],
   "execution_count": 62
  },
  {
   "cell_type": "code",
   "id": "07e21a10-59fc-4dc4-91bf-93b3f9338708",
   "metadata": {
    "ExecuteTime": {
     "end_time": "2024-08-11T10:16:22.147464Z",
     "start_time": "2024-08-11T10:16:22.075467Z"
    }
   },
   "source": [
    "visualize_2D(a_row_vector, '手动，行向量', 3, -3)"
   ],
   "outputs": [
    {
     "data": {
      "text/plain": [
       "<Figure size 400x100 with 1 Axes>"
      ],
      "image/png": "[encoded data removed]"
     },
     "metadata": {},
     "output_type": "display_data"
    }
   ],
   "execution_count": 63
  },
  {
   "cell_type": "code",
   "id": "54d69d2e-a463-40c4-877b-133f172591ef",
   "metadata": {
    "ExecuteTime": {
     "end_time": "2024-08-11T10:16:22.246929Z",
     "start_time": "2024-08-11T10:16:22.242072Z"
    }
   },
   "source": [
    "a_row_vector.shape"
   ],
   "outputs": [
    {
     "data": {
      "text/plain": [
       "(1, 7)"
      ]
     },
     "execution_count": 64,
     "metadata": {},
     "output_type": "execute_result"
    }
   ],
   "execution_count": 64
  },
  {
   "cell_type": "code",
   "id": "9167d8c3-977d-4a47-9582-26cf473bce68",
   "metadata": {
    "ExecuteTime": {
     "end_time": "2024-08-11T10:16:22.307772Z",
     "start_time": "2024-08-11T10:16:22.302912Z"
    }
   },
   "source": [
    "a_row_vector.ndim"
   ],
   "outputs": [
    {
     "data": {
      "text/plain": [
       "2"
      ]
     },
     "execution_count": 65,
     "metadata": {},
     "output_type": "execute_result"
    }
   ],
   "execution_count": 65
  },
  {
   "cell_type": "code",
   "id": "8fe5e1cb-0388-4fec-bce6-92b19fd6a0b9",
   "metadata": {
    "ExecuteTime": {
     "end_time": "2024-08-11T10:16:22.420101Z",
     "start_time": "2024-08-11T10:16:22.414633Z"
    }
   },
   "source": [
    "len(a_row_vector)"
   ],
   "outputs": [
    {
     "data": {
      "text/plain": [
       "1"
      ]
     },
     "execution_count": 66,
     "metadata": {},
     "output_type": "execute_result"
    }
   ],
   "execution_count": 66
  },
  {
   "cell_type": "code",
   "id": "40f0dbc4-d3f3-4458-a5de-73f659b499a6",
   "metadata": {
    "ExecuteTime": {
     "end_time": "2024-08-11T10:16:22.474473Z",
     "start_time": "2024-08-11T10:16:22.469720Z"
    }
   },
   "source": [
    "a_row_vector.size"
   ],
   "outputs": [
    {
     "data": {
      "text/plain": [
       "7"
      ]
     },
     "execution_count": 67,
     "metadata": {},
     "output_type": "execute_result"
    }
   ],
   "execution_count": 67
  },
  {
   "cell_type": "markdown",
   "id": "0030d8c7-bfe7-451f-bf7d-79a9aa96f107",
   "metadata": {},
   "source": [
    "### 二维，列向量"
   ]
  },
  {
   "cell_type": "code",
   "id": "ab2a007c-98b0-4fe3-8b87-3e71f1c84ffb",
   "metadata": {
    "ExecuteTime": {
     "end_time": "2024-08-11T10:16:22.611508Z",
     "start_time": "2024-08-11T10:16:22.605471Z"
    }
   },
   "source": [
    "a_col_vector = np.array([[-3], [-2], [-1], [0], [1], [2], [3]])\n",
    "a_col_vector"
   ],
   "outputs": [
    {
     "data": {
      "text/plain": [
       "array([[-3],\n",
       "       [-2],\n",
       "       [-1],\n",
       "       [ 0],\n",
       "       [ 1],\n",
       "       [ 2],\n",
       "       [ 3]])"
      ]
     },
     "execution_count": 68,
     "metadata": {},
     "output_type": "execute_result"
    }
   ],
   "execution_count": 68
  },
  {
   "cell_type": "code",
   "id": "ae354224-522c-44da-8395-f24f60375e53",
   "metadata": {
    "ExecuteTime": {
     "end_time": "2024-08-11T10:16:22.733506Z",
     "start_time": "2024-08-11T10:16:22.669506Z"
    }
   },
   "source": [
    "visualize_2D(a_col_vector, '手动，列向量', 3, -3)"
   ],
   "outputs": [
    {
     "data": {
      "text/plain": [
       "<Figure size 100x400 with 1 Axes>"
      ],
      "image/png": "[encoded data removed]"
     },
     "metadata": {},
     "output_type": "display_data"
    }
   ],
   "execution_count": 69
  },
  {
   "cell_type": "code",
   "id": "8261480c-5e6b-43e1-aceb-682a99c72ca0",
   "metadata": {
    "ExecuteTime": {
     "end_time": "2024-08-11T10:16:22.806668Z",
     "start_time": "2024-08-11T10:16:22.801505Z"
    }
   },
   "source": [
    "a_col_vector.shape"
   ],
   "outputs": [
    {
     "data": {
      "text/plain": [
       "(7, 1)"
      ]
     },
     "execution_count": 70,
     "metadata": {},
     "output_type": "execute_result"
    }
   ],
   "execution_count": 70
  },
  {
   "cell_type": "code",
   "id": "b7447400-1cfa-4b57-b549-eaec8cad05c7",
   "metadata": {
    "ExecuteTime": {
     "end_time": "2024-08-11T10:16:22.884213Z",
     "start_time": "2024-08-11T10:16:22.879694Z"
    }
   },
   "source": [
    "a_col_vector.ndim"
   ],
   "outputs": [
    {
     "data": {
      "text/plain": [
       "2"
      ]
     },
     "execution_count": 71,
     "metadata": {},
     "output_type": "execute_result"
    }
   ],
   "execution_count": 71
  },
  {
   "cell_type": "code",
   "id": "12365641-c0c8-4315-afe4-df72f43f9cbb",
   "metadata": {
    "ExecuteTime": {
     "end_time": "2024-08-11T10:16:22.970505Z",
     "start_time": "2024-08-11T10:16:22.965212Z"
    }
   },
   "source": [
    "a_col_vector.size"
   ],
   "outputs": [
    {
     "data": {
      "text/plain": [
       "7"
      ]
     },
     "execution_count": 72,
     "metadata": {},
     "output_type": "execute_result"
    }
   ],
   "execution_count": 72
  },
  {
   "cell_type": "code",
   "id": "baef27ce-aec7-44d7-bf68-6073b3293f5b",
   "metadata": {
    "ExecuteTime": {
     "end_time": "2024-08-11T10:16:23.030635Z",
     "start_time": "2024-08-11T10:16:23.026504Z"
    }
   },
   "source": [
    "len(a_col_vector)"
   ],
   "outputs": [
    {
     "data": {
      "text/plain": [
       "7"
      ]
     },
     "execution_count": 73,
     "metadata": {},
     "output_type": "execute_result"
    }
   ],
   "execution_count": 73
  },
  {
   "cell_type": "markdown",
   "id": "63a1a443-52bc-4f8c-b0e5-35a6ae8d3d5f",
   "metadata": {},
   "source": [
    "### 三维"
   ]
  },
  {
   "cell_type": "code",
   "id": "cd4200fc-eef5-4d0a-8f1a-7e71f5c7b849",
   "metadata": {
    "ExecuteTime": {
     "end_time": "2024-08-11T10:16:23.156985Z",
     "start_time": "2024-08-11T10:16:23.151300Z"
    }
   },
   "source": [
    "a_3D = np.array([[[-12, -11, -10, -9],\n",
    "                  [-8,  -7,  -6,  -5],\n",
    "                  [-4,  -3,  -2,  -1]],\n",
    "                 [[0,   1,   2,   3],\n",
    "                  [4,   5,   6,   7],\n",
    "                  [8,   9,   10,  11]]])\n",
    "a_3D"
   ],
   "outputs": [
    {
     "data": {
      "text/plain": [
       "array([[[-12, -11, -10,  -9],\n",
       "        [ -8,  -7,  -6,  -5],\n",
       "        [ -4,  -3,  -2,  -1]],\n",
       "\n",
       "       [[  0,   1,   2,   3],\n",
       "        [  4,   5,   6,   7],\n",
       "        [  8,   9,  10,  11]]])"
      ]
     },
     "execution_count": 74,
     "metadata": {},
     "output_type": "execute_result"
    }
   ],
   "execution_count": 74
  },
  {
   "cell_type": "code",
   "id": "6a448429-9f68-4d84-894d-00ad976efdcc",
   "metadata": {
    "ExecuteTime": {
     "end_time": "2024-08-11T10:16:23.241856Z",
     "start_time": "2024-08-11T10:16:23.235983Z"
    }
   },
   "source": [
    "a_3D.shape"
   ],
   "outputs": [
    {
     "data": {
      "text/plain": [
       "(2, 3, 4)"
      ]
     },
     "execution_count": 75,
     "metadata": {},
     "output_type": "execute_result"
    }
   ],
   "execution_count": 75
  },
  {
   "cell_type": "code",
   "id": "b2ebfd6f-ba9e-4dbd-b196-62473beac54e",
   "metadata": {
    "ExecuteTime": {
     "end_time": "2024-08-11T10:16:23.371911Z",
     "start_time": "2024-08-11T10:16:23.367222Z"
    }
   },
   "source": [
    "a_3D.ndim"
   ],
   "outputs": [
    {
     "data": {
      "text/plain": [
       "3"
      ]
     },
     "execution_count": 76,
     "metadata": {},
     "output_type": "execute_result"
    }
   ],
   "execution_count": 76
  },
  {
   "cell_type": "code",
   "id": "23b72d4a-9045-472f-a8a9-046c0eaed3b6",
   "metadata": {
    "ExecuteTime": {
     "end_time": "2024-08-11T10:16:23.422768Z",
     "start_time": "2024-08-11T10:16:23.417566Z"
    }
   },
   "source": [
    "a_3D[0]"
   ],
   "outputs": [
    {
     "data": {
      "text/plain": [
       "array([[-12, -11, -10,  -9],\n",
       "       [ -8,  -7,  -6,  -5],\n",
       "       [ -4,  -3,  -2,  -1]])"
      ]
     },
     "execution_count": 77,
     "metadata": {},
     "output_type": "execute_result"
    }
   ],
   "execution_count": 77
  },
  {
   "cell_type": "code",
   "id": "6610972f-e3d5-4cae-852e-619a23096ee2",
   "metadata": {
    "ExecuteTime": {
     "end_time": "2024-08-11T10:16:23.587767Z",
     "start_time": "2024-08-11T10:16:23.508768Z"
    }
   },
   "source": [
    "visualize_2D(a_3D[0], '手动，三维，第一页', 12, -12)"
   ],
   "outputs": [
    {
     "data": {
      "text/plain": [
       "<Figure size 200x200 with 1 Axes>"
      ],
      "image/png": "[encoded data removed]"
     },
     "metadata": {},
     "output_type": "display_data"
    }
   ],
   "execution_count": 78
  },
  {
   "cell_type": "code",
   "id": "fe9cf115-3841-41c8-a9f3-3981f58cc162",
   "metadata": {
    "ExecuteTime": {
     "end_time": "2024-08-11T10:16:23.593824Z",
     "start_time": "2024-08-11T10:16:23.588767Z"
    }
   },
   "source": [
    "a_3D[0].shape"
   ],
   "outputs": [
    {
     "data": {
      "text/plain": [
       "(3, 4)"
      ]
     },
     "execution_count": 79,
     "metadata": {},
     "output_type": "execute_result"
    }
   ],
   "execution_count": 79
  },
  {
   "cell_type": "code",
   "id": "339265e0-22e5-44fe-bf1a-fd820608409f",
   "metadata": {
    "ExecuteTime": {
     "end_time": "2024-08-11T10:16:23.711585Z",
     "start_time": "2024-08-11T10:16:23.705821Z"
    }
   },
   "source": [
    "a_3D[1]"
   ],
   "outputs": [
    {
     "data": {
      "text/plain": [
       "array([[ 0,  1,  2,  3],\n",
       "       [ 4,  5,  6,  7],\n",
       "       [ 8,  9, 10, 11]])"
      ]
     },
     "execution_count": 80,
     "metadata": {},
     "output_type": "execute_result"
    }
   ],
   "execution_count": 80
  },
  {
   "cell_type": "code",
   "id": "5f84761d-a1d7-465d-abc6-1511b3190496",
   "metadata": {
    "ExecuteTime": {
     "end_time": "2024-08-11T10:16:23.831589Z",
     "start_time": "2024-08-11T10:16:23.759584Z"
    }
   },
   "source": [
    "visualize_2D(a_3D[1], '手动，三维，第二页', 12, -12)"
   ],
   "outputs": [
    {
     "data": {
      "text/plain": [
       "<Figure size 200x200 with 1 Axes>"
      ],
      "image/png": "[encoded data removed]"
     },
     "metadata": {},
     "output_type": "display_data"
    }
   ],
   "execution_count": 81
  },
  {
   "cell_type": "markdown",
   "id": "546485bc-37e1-4dbf-81a0-50bb42109012",
   "metadata": {},
   "source": [
    "### 三维，行向量"
   ]
  },
  {
   "cell_type": "code",
   "id": "7d142749-f33b-40cd-9e88-4e1be32b5b08",
   "metadata": {
    "ExecuteTime": {
     "end_time": "2024-08-11T10:16:23.898903Z",
     "start_time": "2024-08-11T10:16:23.892583Z"
    }
   },
   "source": [
    "a_row_vector_3D = np.array([[[-3, -2, -1, 0, 1, 2, 3]]])\n",
    "a_row_vector_3D"
   ],
   "outputs": [
    {
     "data": {
      "text/plain": [
       "array([[[-3, -2, -1,  0,  1,  2,  3]]])"
      ]
     },
     "execution_count": 82,
     "metadata": {},
     "output_type": "execute_result"
    }
   ],
   "execution_count": 82
  },
  {
   "cell_type": "code",
   "id": "e75555ea-7906-42e7-b0e3-40c77ae1a6b2",
   "metadata": {
    "ExecuteTime": {
     "end_time": "2024-08-11T10:16:23.966036Z",
     "start_time": "2024-08-11T10:16:23.961418Z"
    }
   },
   "source": [
    "a_row_vector_3D.shape"
   ],
   "outputs": [
    {
     "data": {
      "text/plain": [
       "(1, 1, 7)"
      ]
     },
     "execution_count": 83,
     "metadata": {},
     "output_type": "execute_result"
    }
   ],
   "execution_count": 83
  },
  {
   "cell_type": "code",
   "id": "64eef44a-6e02-4ea6-90a5-463da47707f7",
   "metadata": {
    "ExecuteTime": {
     "end_time": "2024-08-11T10:16:24.077014Z",
     "start_time": "2024-08-11T10:16:24.072014Z"
    }
   },
   "source": [
    "a_row_vector_3D.ndim"
   ],
   "outputs": [
    {
     "data": {
      "text/plain": [
       "3"
      ]
     },
     "execution_count": 84,
     "metadata": {},
     "output_type": "execute_result"
    }
   ],
   "execution_count": 84
  },
  {
   "cell_type": "markdown",
   "id": "d5c3ae28-14df-4864-92ab-b5d696f80d33",
   "metadata": {},
   "source": [
    "## list 到数组"
   ]
  },
  {
   "cell_type": "code",
   "id": "e42c9e67-1059-4de2-9307-f095afdef9b3",
   "metadata": {
    "ExecuteTime": {
     "end_time": "2024-08-11T10:16:24.133685Z",
     "start_time": "2024-08-11T10:16:24.128015Z"
    }
   },
   "source": [
    "list_1D = [-3, -2, -1, 0, 1, 2, 3]\n",
    "list_1D"
   ],
   "outputs": [
    {
     "data": {
      "text/plain": [
       "[-3, -2, -1, 0, 1, 2, 3]"
      ]
     },
     "execution_count": 85,
     "metadata": {},
     "output_type": "execute_result"
    }
   ],
   "execution_count": 85
  },
  {
   "cell_type": "code",
   "id": "928f4859-8baf-45d7-8429-27af827c3b50",
   "metadata": {
    "ExecuteTime": {
     "end_time": "2024-08-11T10:16:24.264810Z",
     "start_time": "2024-08-11T10:16:24.260685Z"
    }
   },
   "source": [
    "np.array(list_1D)"
   ],
   "outputs": [
    {
     "data": {
      "text/plain": [
       "array([-3, -2, -1,  0,  1,  2,  3])"
      ]
     },
     "execution_count": 86,
     "metadata": {},
     "output_type": "execute_result"
    }
   ],
   "execution_count": 86
  },
  {
   "cell_type": "code",
   "id": "5e913273-f6f7-4f9a-a47b-afd925078742",
   "metadata": {
    "ExecuteTime": {
     "end_time": "2024-08-11T10:16:24.327753Z",
     "start_time": "2024-08-11T10:16:24.322809Z"
    }
   },
   "source": [
    "list_2D = [[-3, -2, -1, 0, 1, 2, 3]]\n",
    "list_2D"
   ],
   "outputs": [
    {
     "data": {
      "text/plain": [
       "[[-3, -2, -1, 0, 1, 2, 3]]"
      ]
     },
     "execution_count": 87,
     "metadata": {},
     "output_type": "execute_result"
    }
   ],
   "execution_count": 87
  },
  {
   "cell_type": "code",
   "id": "bf9a26b0-0233-4a95-88e5-1dd9c9e2e13a",
   "metadata": {
    "ExecuteTime": {
     "end_time": "2024-08-11T10:16:24.452330Z",
     "start_time": "2024-08-11T10:16:24.447814Z"
    }
   },
   "source": [
    "np.array(list_2D)"
   ],
   "outputs": [
    {
     "data": {
      "text/plain": [
       "array([[-3, -2, -1,  0,  1,  2,  3]])"
      ]
     },
     "execution_count": 88,
     "metadata": {},
     "output_type": "execute_result"
    }
   ],
   "execution_count": 88
  },
  {
   "cell_type": "code",
   "id": "e92e190b-1807-4d01-ab65-6f209a4eef5e",
   "metadata": {
    "ExecuteTime": {
     "end_time": "2024-08-11T10:16:24.501053Z",
     "start_time": "2024-08-11T10:16:24.495330Z"
    }
   },
   "source": [
    "list_3D = [[[-3, -2, -1, 0, 1, 2, 3]]]\n",
    "list_3D"
   ],
   "outputs": [
    {
     "data": {
      "text/plain": [
       "[[[-3, -2, -1, 0, 1, 2, 3]]]"
      ]
     },
     "execution_count": 89,
     "metadata": {},
     "output_type": "execute_result"
    }
   ],
   "execution_count": 89
  },
  {
   "cell_type": "code",
   "id": "e35392dc-5741-4e8b-97aa-48f6ebbacc33",
   "metadata": {
    "ExecuteTime": {
     "end_time": "2024-08-11T10:16:24.639622Z",
     "start_time": "2024-08-11T10:16:24.634621Z"
    }
   },
   "source": [
    "np.array(list_3D)"
   ],
   "outputs": [
    {
     "data": {
      "text/plain": [
       "array([[[-3, -2, -1,  0,  1,  2,  3]]])"
      ]
     },
     "execution_count": 90,
     "metadata": {},
     "output_type": "execute_result"
    }
   ],
   "execution_count": 90
  },
  {
   "cell_type": "markdown",
   "id": "0c1884bd-53ed-4a8e-9dca-cfee0cdc7086",
   "metadata": {},
   "source": [
    "## 数列"
   ]
  },
  {
   "cell_type": "markdown",
   "id": "183e2c9c-3263-46f8-8e52-2b81aa9729b3",
   "metadata": {},
   "source": [
    "### 使用numpy.arange()"
   ]
  },
  {
   "cell_type": "code",
   "id": "66e0e450-c791-4506-b3cf-df3eb1ad4d3d",
   "metadata": {
    "ExecuteTime": {
     "end_time": "2024-08-11T10:16:24.688607Z",
     "start_time": "2024-08-11T10:16:24.683369Z"
    }
   },
   "source": "np.arange(5) # 返回值类型是numpy.ndarray",
   "outputs": [
    {
     "data": {
      "text/plain": [
       "array([0, 1, 2, 3, 4])"
      ]
     },
     "execution_count": 91,
     "metadata": {},
     "output_type": "execute_result"
    }
   ],
   "execution_count": 91
  },
  {
   "cell_type": "code",
   "id": "3979a571-8b53-4ff1-8a88-3e6ab81e3ee7",
   "metadata": {
    "ExecuteTime": {
     "end_time": "2024-08-11T10:16:24.805982Z",
     "start_time": "2024-08-11T10:16:24.800196Z"
    }
   },
   "source": [
    "np.arange(5, dtype = float)"
   ],
   "outputs": [
    {
     "data": {
      "text/plain": [
       "array([0., 1., 2., 3., 4.])"
      ]
     },
     "execution_count": 92,
     "metadata": {},
     "output_type": "execute_result"
    }
   ],
   "execution_count": 92
  },
  {
   "cell_type": "code",
   "id": "9dfd766c-a388-47d4-ae8e-29b2a586cb09",
   "metadata": {
    "ExecuteTime": {
     "end_time": "2024-08-11T10:16:24.908084Z",
     "start_time": "2024-08-11T10:16:24.903283Z"
    }
   },
   "source": [
    "np.arange(10,20)"
   ],
   "outputs": [
    {
     "data": {
      "text/plain": [
       "array([10, 11, 12, 13, 14, 15, 16, 17, 18, 19])"
      ]
     },
     "execution_count": 93,
     "metadata": {},
     "output_type": "execute_result"
    }
   ],
   "execution_count": 93
  },
  {
   "cell_type": "code",
   "id": "8b29fa64-4c33-43d3-9123-42e3731b97bd",
   "metadata": {
    "ExecuteTime": {
     "end_time": "2024-08-11T10:16:24.985717Z",
     "start_time": "2024-08-11T10:16:24.981135Z"
    }
   },
   "source": [
    "np.arange(10,20,2)"
   ],
   "outputs": [
    {
     "data": {
      "text/plain": [
       "array([10, 12, 14, 16, 18])"
      ]
     },
     "execution_count": 94,
     "metadata": {},
     "output_type": "execute_result"
    }
   ],
   "execution_count": 94
  },
  {
   "cell_type": "code",
   "id": "98d7a169-b97b-48a0-8d5d-32c4404dfe2a",
   "metadata": {
    "ExecuteTime": {
     "end_time": "2024-08-11T10:16:25.052929Z",
     "start_time": "2024-08-11T10:16:25.045797Z"
    }
   },
   "source": [
    "np.arange(10,20,2, dtype = float)"
   ],
   "outputs": [
    {
     "data": {
      "text/plain": [
       "array([10., 12., 14., 16., 18.])"
      ]
     },
     "execution_count": 95,
     "metadata": {},
     "output_type": "execute_result"
    }
   ],
   "execution_count": 95
  },
  {
   "cell_type": "markdown",
   "id": "6003293c-8489-4664-b444-667b5ebebae0",
   "metadata": {},
   "source": [
    "### 使用numpy.linspace()"
   ]
  },
  {
   "cell_type": "code",
   "id": "707f20f6-d141-4ca4-8f97-bc418ca6f15c",
   "metadata": {
    "ExecuteTime": {
     "end_time": "2024-08-11T10:16:25.168572Z",
     "start_time": "2024-08-11T10:16:25.162209Z"
    }
   },
   "source": [
    "np.linspace(0, 10, 21) "
   ],
   "outputs": [
    {
     "data": {
      "text/plain": [
       "array([ 0. ,  0.5,  1. ,  1.5,  2. ,  2.5,  3. ,  3.5,  4. ,  4.5,  5. ,\n",
       "        5.5,  6. ,  6.5,  7. ,  7.5,  8. ,  8.5,  9. ,  9.5, 10. ])"
      ]
     },
     "execution_count": 96,
     "metadata": {},
     "output_type": "execute_result"
    }
   ],
   "execution_count": 96
  },
  {
   "cell_type": "markdown",
   "id": "a3200d7d-cec8-4eae-b0b9-98d8357451a2",
   "metadata": {},
   "source": [
    "### 使用numpy.logspace()"
   ]
  },
  {
   "cell_type": "code",
   "id": "0a89dccf-092b-402e-9392-c8cccedb78f6",
   "metadata": {
    "ExecuteTime": {
     "end_time": "2024-08-11T10:16:25.223296Z",
     "start_time": "2024-08-11T10:16:25.217022Z"
    }
   },
   "source": [
    "np.logspace(0, 4, 5, base=10) "
   ],
   "outputs": [
    {
     "data": {
      "text/plain": [
       "array([1.e+00, 1.e+01, 1.e+02, 1.e+03, 1.e+04])"
      ]
     },
     "execution_count": 97,
     "metadata": {},
     "output_type": "execute_result"
    }
   ],
   "execution_count": 97
  },
  {
   "cell_type": "code",
   "id": "b5493d9e-6948-468a-84ea-0a3ca6a5b3cd",
   "metadata": {
    "ExecuteTime": {
     "end_time": "2024-08-11T10:16:25.347294Z",
     "start_time": "2024-08-11T10:16:25.342295Z"
    }
   },
   "source": [
    "np.logspace(0, 4, 5, base=2) "
   ],
   "outputs": [
    {
     "data": {
      "text/plain": [
       "array([ 1.,  2.,  4.,  8., 16.])"
      ]
     },
     "execution_count": 98,
     "metadata": {},
     "output_type": "execute_result"
    }
   ],
   "execution_count": 98
  },
  {
   "cell_type": "code",
   "id": "fbf55ca2-76d0-4ff9-ba48-ed073c35bcb5",
   "metadata": {
    "ExecuteTime": {
     "end_time": "2024-08-11T10:16:25.434050Z",
     "start_time": "2024-08-11T10:16:25.428656Z"
    }
   },
   "source": [
    "[n**2 for n in np.arange(8)]"
   ],
   "outputs": [
    {
     "data": {
      "text/plain": [
       "[0, 1, 4, 9, 16, 25, 36, 49]"
      ]
     },
     "execution_count": 99,
     "metadata": {},
     "output_type": "execute_result"
    }
   ],
   "execution_count": 99
  },
  {
   "cell_type": "markdown",
   "id": "d467a732-1c65-4c03-8f37-313e035e0458",
   "metadata": {},
   "source": [
    "## 网格数据"
   ]
  },
  {
   "cell_type": "code",
   "id": "664acacf-18e2-45eb-844d-2049b57d09cb",
   "metadata": {
    "ExecuteTime": {
     "end_time": "2024-08-11T10:46:42.659151Z",
     "start_time": "2024-08-11T10:46:42.420495Z"
    }
   },
   "source": [
    "import numpy as np\n",
    "import matplotlib.pyplot as plt\n",
    "\n",
    "x1_array = np.linspace(-3, 3, 21) # 返回值类型是numpy.ndarray\n",
    "x2_array = np.linspace(-3, 3, 21) # 返回值类型是numpy.ndarray\n",
    "\n",
    "xx1, xx2 = np.meshgrid(x1_array, x2_array) # 这个函数将x1，x2两个轴组合，生成网格数据，xx1和xx2分别对应整个网格数据中，所有点的x1坐标和x2坐标\n",
    "# 二元函数\n",
    "ff = xx1 * np.exp(-xx1**2 - xx2**2) ## 计算每个网格点的函数值，ff是一个二维数组，形状和xx1, xx2一样，代表的是整个网格数据中，每个点的函数值\n",
    "print(xx1.shape)\n",
    "\n",
    "# 可视化\n",
    "fig = plt.figure()\n",
    "ax = fig.add_subplot(projection='3d')\n",
    "\n",
    "ax.plot_wireframe(xx1, xx2, ff, rstride=1, cstride=1, color = 'grey')\n",
    "ax.scatter(xx1, xx2, ff, c = ff, cmap = 'RdYlBu_r') # c=ff的含义是，根据ff的值，来确定每个点的颜色\n",
    "ax.set_proj_type('ortho') # 设置投影类型, 'ortho'是正交投影\n",
    "\n",
    "fig.savefig('Figures/三维网格图.svg', format='svg')\n",
    "\n",
    "plt.show()"
   ],
   "outputs": [
    {
     "name": "stdout",
     "output_type": "stream",
     "text": [
      "(21, 21)\n"
     ]
    },
    {
     "data": {
      "text/plain": [
       "<Figure size 640x480 with 1 Axes>"
      ],
      "image/png": "[encoded data removed]"
     },
     "metadata": {},
     "output_type": "display_data"
    }
   ],
   "execution_count": 106
  },
  {
   "cell_type": "code",
   "execution_count": 58,
   "id": "f08d34a1-658d-4f6f-958b-cb7b56094fea",
   "metadata": {},
   "outputs": [
    {
     "data": {
      "text/plain": [
       "array([[-3. , -2.7, -2.4, -2.1, -1.8, -1.5, -1.2, -0.9, -0.6, -0.3,  0. ,\n",
       "         0.3,  0.6,  0.9,  1.2,  1.5,  1.8,  2.1,  2.4,  2.7,  3. ],\n",
       "       [-3. , -2.7, -2.4, -2.1, -1.8, -1.5, -1.2, -0.9, -0.6, -0.3,  0. ,\n",
       "         0.3,  0.6,  0.9,  1.2,  1.5,  1.8,  2.1,  2.4,  2.7,  3. ],\n",
       "       [-3. , -2.7, -2.4, -2.1, -1.8, -1.5, -1.2, -0.9, -0.6, -0.3,  0. ,\n",
       "         0.3,  0.6,  0.9,  1.2,  1.5,  1.8,  2.1,  2.4,  2.7,  3. ],\n",
       "       [-3. , -2.7, -2.4, -2.1, -1.8, -1.5, -1.2, -0.9, -0.6, -0.3,  0. ,\n",
       "         0.3,  0.6,  0.9,  1.2,  1.5,  1.8,  2.1,  2.4,  2.7,  3. ],\n",
       "       [-3. , -2.7, -2.4, -2.1, -1.8, -1.5, -1.2, -0.9, -0.6, -0.3,  0. ,\n",
       "         0.3,  0.6,  0.9,  1.2,  1.5,  1.8,  2.1,  2.4,  2.7,  3. ],\n",
       "       [-3. , -2.7, -2.4, -2.1, -1.8, -1.5, -1.2, -0.9, -0.6, -0.3,  0. ,\n",
       "         0.3,  0.6,  0.9,  1.2,  1.5,  1.8,  2.1,  2.4,  2.7,  3. ],\n",
       "       [-3. , -2.7, -2.4, -2.1, -1.8, -1.5, -1.2, -0.9, -0.6, -0.3,  0. ,\n",
       "         0.3,  0.6,  0.9,  1.2,  1.5,  1.8,  2.1,  2.4,  2.7,  3. ],\n",
       "       [-3. , -2.7, -2.4, -2.1, -1.8, -1.5, -1.2, -0.9, -0.6, -0.3,  0. ,\n",
       "         0.3,  0.6,  0.9,  1.2,  1.5,  1.8,  2.1,  2.4,  2.7,  3. ],\n",
       "       [-3. , -2.7, -2.4, -2.1, -1.8, -1.5, -1.2, -0.9, -0.6, -0.3,  0. ,\n",
       "         0.3,  0.6,  0.9,  1.2,  1.5,  1.8,  2.1,  2.4,  2.7,  3. ],\n",
       "       [-3. , -2.7, -2.4, -2.1, -1.8, -1.5, -1.2, -0.9, -0.6, -0.3,  0. ,\n",
       "         0.3,  0.6,  0.9,  1.2,  1.5,  1.8,  2.1,  2.4,  2.7,  3. ],\n",
       "       [-3. , -2.7, -2.4, -2.1, -1.8, -1.5, -1.2, -0.9, -0.6, -0.3,  0. ,\n",
       "         0.3,  0.6,  0.9,  1.2,  1.5,  1.8,  2.1,  2.4,  2.7,  3. ],\n",
       "       [-3. , -2.7, -2.4, -2.1, -1.8, -1.5, -1.2, -0.9, -0.6, -0.3,  0. ,\n",
       "         0.3,  0.6,  0.9,  1.2,  1.5,  1.8,  2.1,  2.4,  2.7,  3. ],\n",
       "       [-3. , -2.7, -2.4, -2.1, -1.8, -1.5, -1.2, -0.9, -0.6, -0.3,  0. ,\n",
       "         0.3,  0.6,  0.9,  1.2,  1.5,  1.8,  2.1,  2.4,  2.7,  3. ],\n",
       "       [-3. , -2.7, -2.4, -2.1, -1.8, -1.5, -1.2, -0.9, -0.6, -0.3,  0. ,\n",
       "         0.3,  0.6,  0.9,  1.2,  1.5,  1.8,  2.1,  2.4,  2.7,  3. ],\n",
       "       [-3. , -2.7, -2.4, -2.1, -1.8, -1.5, -1.2, -0.9, -0.6, -0.3,  0. ,\n",
       "         0.3,  0.6,  0.9,  1.2,  1.5,  1.8,  2.1,  2.4,  2.7,  3. ],\n",
       "       [-3. , -2.7, -2.4, -2.1, -1.8, -1.5, -1.2, -0.9, -0.6, -0.3,  0. ,\n",
       "         0.3,  0.6,  0.9,  1.2,  1.5,  1.8,  2.1,  2.4,  2.7,  3. ],\n",
       "       [-3. , -2.7, -2.4, -2.1, -1.8, -1.5, -1.2, -0.9, -0.6, -0.3,  0. ,\n",
       "         0.3,  0.6,  0.9,  1.2,  1.5,  1.8,  2.1,  2.4,  2.7,  3. ],\n",
       "       [-3. , -2.7, -2.4, -2.1, -1.8, -1.5, -1.2, -0.9, -0.6, -0.3,  0. ,\n",
       "         0.3,  0.6,  0.9,  1.2,  1.5,  1.8,  2.1,  2.4,  2.7,  3. ],\n",
       "       [-3. , -2.7, -2.4, -2.1, -1.8, -1.5, -1.2, -0.9, -0.6, -0.3,  0. ,\n",
       "         0.3,  0.6,  0.9,  1.2,  1.5,  1.8,  2.1,  2.4,  2.7,  3. ],\n",
       "       [-3. , -2.7, -2.4, -2.1, -1.8, -1.5, -1.2, -0.9, -0.6, -0.3,  0. ,\n",
       "         0.3,  0.6,  0.9,  1.2,  1.5,  1.8,  2.1,  2.4,  2.7,  3. ],\n",
       "       [-3. , -2.7, -2.4, -2.1, -1.8, -1.5, -1.2, -0.9, -0.6, -0.3,  0. ,\n",
       "         0.3,  0.6,  0.9,  1.2,  1.5,  1.8,  2.1,  2.4,  2.7,  3. ]])"
      ]
     },
     "execution_count": 58,
     "metadata": {},
     "output_type": "execute_result"
    }
   ],
   "source": [
    "xx1"
   ]
  },
  {
   "cell_type": "code",
   "execution_count": 59,
   "id": "461a7a3f-846f-48bc-8dad-6f498c82c908",
   "metadata": {},
   "outputs": [
    {
     "data": {
      "text/plain": [
       "(21, 21)"
      ]
     },
     "execution_count": 59,
     "metadata": {},
     "output_type": "execute_result"
    }
   ],
   "source": [
    "xx1.shape"
   ]
  },
  {
   "cell_type": "code",
   "execution_count": 60,
   "id": "ce0f9491-88a8-4eb1-930c-06a77ae8e212",
   "metadata": {},
   "outputs": [
    {
     "data": {
      "text/plain": [
       "2"
      ]
     },
     "execution_count": 60,
     "metadata": {},
     "output_type": "execute_result"
    }
   ],
   "source": [
    "xx1.ndim"
   ]
  },
  {
   "cell_type": "code",
   "execution_count": 61,
   "id": "e9bc8ce2-8341-4e9a-b5a7-0f040f4d13ae",
   "metadata": {},
   "outputs": [
    {
     "data": {
      "text/plain": [
       "array([[-3. , -3. , -3. , -3. , -3. , -3. , -3. , -3. , -3. , -3. , -3. ,\n",
       "        -3. , -3. , -3. , -3. , -3. , -3. , -3. , -3. , -3. , -3. ],\n",
       "       [-2.7, -2.7, -2.7, -2.7, -2.7, -2.7, -2.7, -2.7, -2.7, -2.7, -2.7,\n",
       "        -2.7, -2.7, -2.7, -2.7, -2.7, -2.7, -2.7, -2.7, -2.7, -2.7],\n",
       "       [-2.4, -2.4, -2.4, -2.4, -2.4, -2.4, -2.4, -2.4, -2.4, -2.4, -2.4,\n",
       "        -2.4, -2.4, -2.4, -2.4, -2.4, -2.4, -2.4, -2.4, -2.4, -2.4],\n",
       "       [-2.1, -2.1, -2.1, -2.1, -2.1, -2.1, -2.1, -2.1, -2.1, -2.1, -2.1,\n",
       "        -2.1, -2.1, -2.1, -2.1, -2.1, -2.1, -2.1, -2.1, -2.1, -2.1],\n",
       "       [-1.8, -1.8, -1.8, -1.8, -1.8, -1.8, -1.8, -1.8, -1.8, -1.8, -1.8,\n",
       "        -1.8, -1.8, -1.8, -1.8, -1.8, -1.8, -1.8, -1.8, -1.8, -1.8],\n",
       "       [-1.5, -1.5, -1.5, -1.5, -1.5, -1.5, -1.5, -1.5, -1.5, -1.5, -1.5,\n",
       "        -1.5, -1.5, -1.5, -1.5, -1.5, -1.5, -1.5, -1.5, -1.5, -1.5],\n",
       "       [-1.2, -1.2, -1.2, -1.2, -1.2, -1.2, -1.2, -1.2, -1.2, -1.2, -1.2,\n",
       "        -1.2, -1.2, -1.2, -1.2, -1.2, -1.2, -1.2, -1.2, -1.2, -1.2],\n",
       "       [-0.9, -0.9, -0.9, -0.9, -0.9, -0.9, -0.9, -0.9, -0.9, -0.9, -0.9,\n",
       "        -0.9, -0.9, -0.9, -0.9, -0.9, -0.9, -0.9, -0.9, -0.9, -0.9],\n",
       "       [-0.6, -0.6, -0.6, -0.6, -0.6, -0.6, -0.6, -0.6, -0.6, -0.6, -0.6,\n",
       "        -0.6, -0.6, -0.6, -0.6, -0.6, -0.6, -0.6, -0.6, -0.6, -0.6],\n",
       "       [-0.3, -0.3, -0.3, -0.3, -0.3, -0.3, -0.3, -0.3, -0.3, -0.3, -0.3,\n",
       "        -0.3, -0.3, -0.3, -0.3, -0.3, -0.3, -0.3, -0.3, -0.3, -0.3],\n",
       "       [ 0. ,  0. ,  0. ,  0. ,  0. ,  0. ,  0. ,  0. ,  0. ,  0. ,  0. ,\n",
       "         0. ,  0. ,  0. ,  0. ,  0. ,  0. ,  0. ,  0. ,  0. ,  0. ],\n",
       "       [ 0.3,  0.3,  0.3,  0.3,  0.3,  0.3,  0.3,  0.3,  0.3,  0.3,  0.3,\n",
       "         0.3,  0.3,  0.3,  0.3,  0.3,  0.3,  0.3,  0.3,  0.3,  0.3],\n",
       "       [ 0.6,  0.6,  0.6,  0.6,  0.6,  0.6,  0.6,  0.6,  0.6,  0.6,  0.6,\n",
       "         0.6,  0.6,  0.6,  0.6,  0.6,  0.6,  0.6,  0.6,  0.6,  0.6],\n",
       "       [ 0.9,  0.9,  0.9,  0.9,  0.9,  0.9,  0.9,  0.9,  0.9,  0.9,  0.9,\n",
       "         0.9,  0.9,  0.9,  0.9,  0.9,  0.9,  0.9,  0.9,  0.9,  0.9],\n",
       "       [ 1.2,  1.2,  1.2,  1.2,  1.2,  1.2,  1.2,  1.2,  1.2,  1.2,  1.2,\n",
       "         1.2,  1.2,  1.2,  1.2,  1.2,  1.2,  1.2,  1.2,  1.2,  1.2],\n",
       "       [ 1.5,  1.5,  1.5,  1.5,  1.5,  1.5,  1.5,  1.5,  1.5,  1.5,  1.5,\n",
       "         1.5,  1.5,  1.5,  1.5,  1.5,  1.5,  1.5,  1.5,  1.5,  1.5],\n",
       "       [ 1.8,  1.8,  1.8,  1.8,  1.8,  1.8,  1.8,  1.8,  1.8,  1.8,  1.8,\n",
       "         1.8,  1.8,  1.8,  1.8,  1.8,  1.8,  1.8,  1.8,  1.8,  1.8],\n",
       "       [ 2.1,  2.1,  2.1,  2.1,  2.1,  2.1,  2.1,  2.1,  2.1,  2.1,  2.1,\n",
       "         2.1,  2.1,  2.1,  2.1,  2.1,  2.1,  2.1,  2.1,  2.1,  2.1],\n",
       "       [ 2.4,  2.4,  2.4,  2.4,  2.4,  2.4,  2.4,  2.4,  2.4,  2.4,  2.4,\n",
       "         2.4,  2.4,  2.4,  2.4,  2.4,  2.4,  2.4,  2.4,  2.4,  2.4],\n",
       "       [ 2.7,  2.7,  2.7,  2.7,  2.7,  2.7,  2.7,  2.7,  2.7,  2.7,  2.7,\n",
       "         2.7,  2.7,  2.7,  2.7,  2.7,  2.7,  2.7,  2.7,  2.7,  2.7],\n",
       "       [ 3. ,  3. ,  3. ,  3. ,  3. ,  3. ,  3. ,  3. ,  3. ,  3. ,  3. ,\n",
       "         3. ,  3. ,  3. ,  3. ,  3. ,  3. ,  3. ,  3. ,  3. ,  3. ]])"
      ]
     },
     "execution_count": 61,
     "metadata": {},
     "output_type": "execute_result"
    }
   ],
   "source": [
    "xx2"
   ]
  },
  {
   "cell_type": "code",
   "execution_count": 62,
   "id": "d9844cbb-d9ce-484c-a27d-1ec6cdfb67a0",
   "metadata": {},
   "outputs": [],
   "source": [
    "xxx1, xxx2, xxx3 = np.meshgrid(np.arange(6), np.arange(6), np.arange(6))"
   ]
  },
  {
   "cell_type": "code",
   "execution_count": 63,
   "id": "de38b81c-e23d-44d1-afdd-20394665e7fc",
   "metadata": {},
   "outputs": [
    {
     "data": {
      "text/plain": [
       "array([[[0, 0, 0, 0, 0, 0],\n",
       "        [1, 1, 1, 1, 1, 1],\n",
       "        [2, 2, 2, 2, 2, 2],\n",
       "        [3, 3, 3, 3, 3, 3],\n",
       "        [4, 4, 4, 4, 4, 4],\n",
       "        [5, 5, 5, 5, 5, 5]],\n",
       "\n",
       "       [[0, 0, 0, 0, 0, 0],\n",
       "        [1, 1, 1, 1, 1, 1],\n",
       "        [2, 2, 2, 2, 2, 2],\n",
       "        [3, 3, 3, 3, 3, 3],\n",
       "        [4, 4, 4, 4, 4, 4],\n",
       "        [5, 5, 5, 5, 5, 5]],\n",
       "\n",
       "       [[0, 0, 0, 0, 0, 0],\n",
       "        [1, 1, 1, 1, 1, 1],\n",
       "        [2, 2, 2, 2, 2, 2],\n",
       "        [3, 3, 3, 3, 3, 3],\n",
       "        [4, 4, 4, 4, 4, 4],\n",
       "        [5, 5, 5, 5, 5, 5]],\n",
       "\n",
       "       [[0, 0, 0, 0, 0, 0],\n",
       "        [1, 1, 1, 1, 1, 1],\n",
       "        [2, 2, 2, 2, 2, 2],\n",
       "        [3, 3, 3, 3, 3, 3],\n",
       "        [4, 4, 4, 4, 4, 4],\n",
       "        [5, 5, 5, 5, 5, 5]],\n",
       "\n",
       "       [[0, 0, 0, 0, 0, 0],\n",
       "        [1, 1, 1, 1, 1, 1],\n",
       "        [2, 2, 2, 2, 2, 2],\n",
       "        [3, 3, 3, 3, 3, 3],\n",
       "        [4, 4, 4, 4, 4, 4],\n",
       "        [5, 5, 5, 5, 5, 5]],\n",
       "\n",
       "       [[0, 0, 0, 0, 0, 0],\n",
       "        [1, 1, 1, 1, 1, 1],\n",
       "        [2, 2, 2, 2, 2, 2],\n",
       "        [3, 3, 3, 3, 3, 3],\n",
       "        [4, 4, 4, 4, 4, 4],\n",
       "        [5, 5, 5, 5, 5, 5]]])"
      ]
     },
     "execution_count": 63,
     "metadata": {},
     "output_type": "execute_result"
    }
   ],
   "source": [
    "xxx1"
   ]
  },
  {
   "cell_type": "code",
   "execution_count": 64,
   "id": "f1e45f59-a3b6-40d1-86a6-fe7e2e0b3c94",
   "metadata": {},
   "outputs": [
    {
     "data": {
      "text/plain": [
       "(6, 6, 6)"
      ]
     },
     "execution_count": 64,
     "metadata": {},
     "output_type": "execute_result"
    }
   ],
   "source": [
    "xxx1.shape"
   ]
  },
  {
   "cell_type": "code",
   "execution_count": 65,
   "id": "f3245f1a-1762-4138-9e91-5aa75218748c",
   "metadata": {},
   "outputs": [
    {
     "data": {
      "text/plain": [
       "3"
      ]
     },
     "execution_count": 65,
     "metadata": {},
     "output_type": "execute_result"
    }
   ],
   "source": [
    "xxx1.ndim"
   ]
  },
  {
   "cell_type": "markdown",
   "id": "2e48ac2a-1bcd-4f7e-849e-a5d35c58d82b",
   "metadata": {},
   "source": [
    "### 特殊矩阵"
   ]
  },
  {
   "cell_type": "code",
   "execution_count": 66,
   "id": "86b2bd20-841e-4edf-b5f1-46fc0c17f27d",
   "metadata": {},
   "outputs": [
    {
     "data": {
      "text/plain": [
       "array([[ 2.99922218e-01,  1.73160174e-01,  0.00000000e+00,\n",
       "        -3.33066907e-16],\n",
       "       [-8.65800868e-02,  1.49961109e-01,  1.61207752e+00,\n",
       "        -1.33226763e-15],\n",
       "       [-1.49961109e-01,  2.59740260e-01, -9.30733388e-01,\n",
       "         2.00000000e+01],\n",
       "       [ 0.00000000e+00,  0.00000000e+00,  0.00000000e+00,\n",
       "         2.00000000e+01]])"
      ]
     },
     "execution_count": 66,
     "metadata": {},
     "output_type": "execute_result"
    }
   ],
   "source": [
    "np.empty([4,4])"
   ]
  },
  {
   "cell_type": "code",
   "execution_count": 67,
   "id": "e75b19e3-a92b-4c22-b6f0-80dbd59b14b4",
   "metadata": {},
   "outputs": [
    {
     "data": {
      "text/plain": [
       "array([  0.        ,   0.        , 416.07303155, 389.84756075])"
      ]
     },
     "execution_count": 67,
     "metadata": {},
     "output_type": "execute_result"
    }
   ],
   "source": [
    "np.empty(4)"
   ]
  },
  {
   "cell_type": "code",
   "execution_count": 68,
   "id": "1e0e1c37-9690-47e7-9de0-e5f490ad37e3",
   "metadata": {},
   "outputs": [
    {
     "data": {
      "text/plain": [
       "array([[0, 1, 2],\n",
       "       [3, 4, 5]])"
      ]
     },
     "execution_count": 68,
     "metadata": {},
     "output_type": "execute_result"
    }
   ],
   "source": [
    "A = np.array([[1, 2, 3],\n",
    "              [4, 5, 6]])\n",
    "np.empty_like(A)"
   ]
  },
  {
   "cell_type": "code",
   "execution_count": 69,
   "id": "100f04a0-37b3-415a-8682-2e728a887d96",
   "metadata": {},
   "outputs": [
    {
     "data": {
      "text/plain": [
       "array([[1., 0., 0., 0., 0.],\n",
       "       [0., 1., 0., 0., 0.],\n",
       "       [0., 0., 1., 0., 0.],\n",
       "       [0., 0., 0., 1., 0.],\n",
       "       [0., 0., 0., 0., 1.]])"
      ]
     },
     "execution_count": 69,
     "metadata": {},
     "output_type": "execute_result"
    }
   ],
   "source": [
    "np.eye(5)"
   ]
  },
  {
   "cell_type": "code",
   "execution_count": 70,
   "id": "158a1b55-e082-4383-a32b-b9b1d19ec599",
   "metadata": {},
   "outputs": [
    {
     "data": {
      "text/plain": [
       "array([[inf, inf, inf],\n",
       "       [inf, inf, inf],\n",
       "       [inf, inf, inf]])"
      ]
     },
     "execution_count": 70,
     "metadata": {},
     "output_type": "execute_result"
    }
   ],
   "source": [
    "np.full((3,3), np.inf)"
   ]
  },
  {
   "cell_type": "code",
   "execution_count": 71,
   "id": "6395d0ed-64d1-45e3-aff5-3d2039a2db95",
   "metadata": {},
   "outputs": [
    {
     "data": {
      "text/plain": [
       "array([[100, 100, 100],\n",
       "       [100, 100, 100]])"
      ]
     },
     "execution_count": 71,
     "metadata": {},
     "output_type": "execute_result"
    }
   ],
   "source": [
    "A = np.array([[1, 2, 3],\n",
    "              [4, 5, 6]])\n",
    "np.full_like(A, 100)"
   ]
  },
  {
   "cell_type": "code",
   "execution_count": 72,
   "id": "ea4825ab-c05b-4e50-91e2-6830509277ef",
   "metadata": {},
   "outputs": [
    {
     "data": {
      "text/plain": [
       "array([1., 1., 1., 1., 1.])"
      ]
     },
     "execution_count": 72,
     "metadata": {},
     "output_type": "execute_result"
    }
   ],
   "source": [
    "np.ones(5)"
   ]
  },
  {
   "cell_type": "code",
   "execution_count": 73,
   "id": "a26cdda9-5b4f-4f08-b6e2-174935538bbf",
   "metadata": {},
   "outputs": [
    {
     "data": {
      "text/plain": [
       "array([[1., 1., 1., 1., 1.],\n",
       "       [1., 1., 1., 1., 1.],\n",
       "       [1., 1., 1., 1., 1.],\n",
       "       [1., 1., 1., 1., 1.],\n",
       "       [1., 1., 1., 1., 1.]])"
      ]
     },
     "execution_count": 73,
     "metadata": {},
     "output_type": "execute_result"
    }
   ],
   "source": [
    "np.ones((5,5))"
   ]
  },
  {
   "cell_type": "code",
   "execution_count": 74,
   "id": "bf89a70f-4df8-4dc4-b798-8aa6802ad7dd",
   "metadata": {},
   "outputs": [
    {
     "data": {
      "text/plain": [
       "array([[1, 1, 1],\n",
       "       [1, 1, 1]])"
      ]
     },
     "execution_count": 74,
     "metadata": {},
     "output_type": "execute_result"
    }
   ],
   "source": [
    "A = np.array([[1, 2, 3],\n",
    "              [4, 5, 6]])\n",
    "np.ones_like(A)"
   ]
  },
  {
   "cell_type": "code",
   "execution_count": 75,
   "id": "a335d322-dbb3-44d4-b7bb-5e66a42a287e",
   "metadata": {},
   "outputs": [
    {
     "data": {
      "text/plain": [
       "array([0., 0., 0., 0., 0.])"
      ]
     },
     "execution_count": 75,
     "metadata": {},
     "output_type": "execute_result"
    }
   ],
   "source": [
    "np.zeros(5)"
   ]
  },
  {
   "cell_type": "code",
   "execution_count": 76,
   "id": "982daab3-2c8b-42f8-ba40-34bcc58a4abf",
   "metadata": {},
   "outputs": [
    {
     "data": {
      "text/plain": [
       "array([[0., 0., 0., 0., 0.],\n",
       "       [0., 0., 0., 0., 0.],\n",
       "       [0., 0., 0., 0., 0.],\n",
       "       [0., 0., 0., 0., 0.],\n",
       "       [0., 0., 0., 0., 0.]])"
      ]
     },
     "execution_count": 76,
     "metadata": {},
     "output_type": "execute_result"
    }
   ],
   "source": [
    "np.zeros((5,5))"
   ]
  },
  {
   "cell_type": "code",
   "execution_count": 77,
   "id": "e9372cea-1cb4-4902-b528-d466a79b6f3e",
   "metadata": {},
   "outputs": [
    {
     "data": {
      "text/plain": [
       "array([[0, 0, 0],\n",
       "       [0, 0, 0]])"
      ]
     },
     "execution_count": 77,
     "metadata": {},
     "output_type": "execute_result"
    }
   ],
   "source": [
    "A = np.array([[1, 2, 3],\n",
    "              [4, 5, 6]])\n",
    "np.zeros_like(A)"
   ]
  },
  {
   "cell_type": "markdown",
   "id": "0b2da4c6-19b9-469f-b04d-e5d5f5adfca8",
   "metadata": {},
   "source": [
    "## 随机数"
   ]
  },
  {
   "cell_type": "markdown",
   "id": "c6ac1596-c290-4479-86ee-19eaa1362c69",
   "metadata": {},
   "source": [
    "### 二元连续均匀随机数"
   ]
  },
  {
   "cell_type": "code",
   "execution_count": 78,
   "id": "18c00780-0c15-47c5-a300-e296e201b973",
   "metadata": {},
   "outputs": [
    {
     "data": {
      "text/plain": [
       "[<matplotlib.axis.YTick at 0x1c91baa7460>,\n",
       " <matplotlib.axis.YTick at 0x1c91baa6e60>,\n",
       " <matplotlib.axis.YTick at 0x1c91baa5de0>]"
      ]
     },
     "execution_count": 78,
     "metadata": {},
     "output_type": "execute_result"
    },
    {
     "data": {
      "image/png": "[encoded data removed]",
      "text/plain": [
       "<Figure size 500x500 with 1 Axes>"
      ]
     },
     "metadata": {},
     "output_type": "display_data"
    }
   ],
   "source": [
    "import numpy as np\n",
    "import matplotlib.pyplot as plt\n",
    "\n",
    "# 生成随机数，服从连续均匀分布\n",
    "num = 2000\n",
    "X_uniform = np.random.uniform(low=-3, high=3, size=(num,2))\n",
    "\n",
    "fig, ax = plt.subplots(figsize = (5,5))\n",
    "ax.scatter(X_uniform[:,0],  # 散点横轴坐标\n",
    "           X_uniform[:,1],  # 散点纵轴坐标\n",
    "           s = 100,         # 散点大小\n",
    "           marker = '.',    # 散点marker样式\n",
    "           alpha = 0.5,     # 透明度\n",
    "           edgecolors = 'w')# 散点边缘颜色\n",
    "\n",
    "ax.set_aspect('equal', adjustable='box')\n",
    "ax.set_xlim(-3, 3)\n",
    "ax.set_ylim(-3, 3)\n",
    "ax.set_xticks((-3,0,3))\n",
    "ax.set_yticks((-3,0,3))\n",
    "# fig.savefig('Figures/二元连续均匀随机数.svg', format='svg')\n"
   ]
  },
  {
   "cell_type": "markdown",
   "id": "41b2a3b6-b6c6-4737-a9ae-57f70ff88df9",
   "metadata": {},
   "source": [
    "### 二元正态分布随机数"
   ]
  },
  {
   "cell_type": "code",
   "execution_count": 79,
   "id": "d10ebe08-27fd-4dcb-b5be-8e8ac669e437",
   "metadata": {},
   "outputs": [
    {
     "data": {
      "text/plain": [
       "[<matplotlib.axis.YTick at 0x1c91ba4c6d0>,\n",
       " <matplotlib.axis.YTick at 0x1c91ba4e470>,\n",
       " <matplotlib.axis.YTick at 0x1c91ba4f280>]"
      ]
     },
     "execution_count": 79,
     "metadata": {},
     "output_type": "execute_result"
    },
    {
     "data": {
      "image/png": "[encoded data removed]",
      "text/plain": [
       "<Figure size 500x500 with 1 Axes>"
      ]
     },
     "metadata": {},
     "output_type": "display_data"
    }
   ],
   "source": [
    "import numpy as np\n",
    "import matplotlib.pyplot as plt\n",
    "\n",
    "# 生成随机数，服从二元高斯分布\n",
    "num = 2000\n",
    "\n",
    "mu    = np.array([0, 0])    # 质心\n",
    "rho   = 0  # 相关性系数\n",
    "Sigma = np.array([[1, rho], \n",
    "                  [rho, 1]])  # 协方差矩阵\n",
    "\n",
    "X_binormal = np.random.multivariate_normal(mu, Sigma, size=num)\n",
    "\n",
    "fig, ax = plt.subplots(figsize = (5,5))\n",
    "ax.scatter(X_binormal[:,0], \n",
    "           X_binormal[:,1], \n",
    "           s = 100, \n",
    "           marker = '.', \n",
    "           alpha = 0.5, \n",
    "           edgecolors = 'w')\n",
    "\n",
    "ax.set_aspect('equal', adjustable='box')\n",
    "ax.set_xlim(-3, 3)\n",
    "ax.set_ylim(-3, 3)\n",
    "ax.set_xticks((-3,0,3))\n",
    "ax.set_yticks((-3,0,3))\n",
    "# fig.savefig('Figures/二元正态分布随机数.svg', format='svg')\n"
   ]
  },
  {
   "cell_type": "markdown",
   "id": "55a2230e-33d4-4e2b-8c3c-52e403fdf61b",
   "metadata": {},
   "source": [
    "## CSV文件导出、导入"
   ]
  },
  {
   "cell_type": "code",
   "execution_count": 80,
   "id": "26511073-c137-46d3-9512-e5a7de137a91",
   "metadata": {},
   "outputs": [
    {
     "data": {
      "text/plain": [
       "<AxesSubplot:>"
      ]
     },
     "execution_count": 80,
     "metadata": {},
     "output_type": "execute_result"
    },
    {
     "data": {
      "image/png": "[encoded data removed]",
      "text/plain": [
       "<Figure size 500x500 with 2 Axes>"
      ]
     },
     "metadata": {},
     "output_type": "display_data"
    }
   ],
   "source": [
    "import numpy as np\n",
    "import matplotlib.pyplot as plt\n",
    "import seaborn as sns\n",
    "from sklearn.datasets import load_iris\n",
    "from numpy import genfromtxt\n",
    "\n",
    "# 导入鸢尾花数据\n",
    "iris = load_iris()\n",
    "# 将numpy array存成CSV文件\n",
    "np.savetxt(\"Iris_data.csv\", iris.data, delimiter=\",\")\n",
    "\n",
    "# 将 CSV 文件读入存成numpy array\n",
    "Iris_Data_array = genfromtxt('Iris_data.csv', delimiter=',')\n",
    "\n",
    "# 可视化\n",
    "fig, ax = plt.subplots(figsize = (5,5))\n",
    "sns.heatmap(Iris_Data_array,   # 鸢尾花数据数组\n",
    "            cmap = 'RdYlBu_r', # 指定色谱\n",
    "            ax = ax,           # 指定轴\n",
    "            vmax = 8,          # 色谱最大值\n",
    "            vmin = 0,          # 色谱最小值\n",
    "            xticklabels = [],  # 不显示横轴标签\n",
    "            yticklabels = [],  # 不显示纵轴标签\n",
    "            cbar = True)       # 显示色谱条"
   ]
  },
  {
   "cell_type": "code",
   "execution_count": 81,
   "id": "5a02c0dc-78dc-4523-8059-e5feae5384ea",
   "metadata": {
    "tags": []
   },
   "outputs": [
    {
     "data": {
      "text/plain": [
       "array([[5.1, 3.5, 1.4, 0.2],\n",
       "       [4.9, 3. , 1.4, 0.2],\n",
       "       [4.7, 3.2, 1.3, 0.2],\n",
       "       [4.6, 3.1, 1.5, 0.2],\n",
       "       [5. , 3.6, 1.4, 0.2],\n",
       "       [5.4, 3.9, 1.7, 0.4],\n",
       "       [4.6, 3.4, 1.4, 0.3],\n",
       "       [5. , 3.4, 1.5, 0.2],\n",
       "       [4.4, 2.9, 1.4, 0.2],\n",
       "       [4.9, 3.1, 1.5, 0.1],\n",
       "       [5.4, 3.7, 1.5, 0.2],\n",
       "       [4.8, 3.4, 1.6, 0.2],\n",
       "       [4.8, 3. , 1.4, 0.1],\n",
       "       [4.3, 3. , 1.1, 0.1],\n",
       "       [5.8, 4. , 1.2, 0.2],\n",
       "       [5.7, 4.4, 1.5, 0.4],\n",
       "       [5.4, 3.9, 1.3, 0.4],\n",
       "       [5.1, 3.5, 1.4, 0.3],\n",
       "       [5.7, 3.8, 1.7, 0.3],\n",
       "       [5.1, 3.8, 1.5, 0.3],\n",
       "       [5.4, 3.4, 1.7, 0.2],\n",
       "       [5.1, 3.7, 1.5, 0.4],\n",
       "       [4.6, 3.6, 1. , 0.2],\n",
       "       [5.1, 3.3, 1.7, 0.5],\n",
       "       [4.8, 3.4, 1.9, 0.2],\n",
       "       [5. , 3. , 1.6, 0.2],\n",
       "       [5. , 3.4, 1.6, 0.4],\n",
       "       [5.2, 3.5, 1.5, 0.2],\n",
       "       [5.2, 3.4, 1.4, 0.2],\n",
       "       [4.7, 3.2, 1.6, 0.2],\n",
       "       [4.8, 3.1, 1.6, 0.2],\n",
       "       [5.4, 3.4, 1.5, 0.4],\n",
       "       [5.2, 4.1, 1.5, 0.1],\n",
       "       [5.5, 4.2, 1.4, 0.2],\n",
       "       [4.9, 3.1, 1.5, 0.2],\n",
       "       [5. , 3.2, 1.2, 0.2],\n",
       "       [5.5, 3.5, 1.3, 0.2],\n",
       "       [4.9, 3.6, 1.4, 0.1],\n",
       "       [4.4, 3. , 1.3, 0.2],\n",
       "       [5.1, 3.4, 1.5, 0.2],\n",
       "       [5. , 3.5, 1.3, 0.3],\n",
       "       [4.5, 2.3, 1.3, 0.3],\n",
       "       [4.4, 3.2, 1.3, 0.2],\n",
       "       [5. , 3.5, 1.6, 0.6],\n",
       "       [5.1, 3.8, 1.9, 0.4],\n",
       "       [4.8, 3. , 1.4, 0.3],\n",
       "       [5.1, 3.8, 1.6, 0.2],\n",
       "       [4.6, 3.2, 1.4, 0.2],\n",
       "       [5.3, 3.7, 1.5, 0.2],\n",
       "       [5. , 3.3, 1.4, 0.2],\n",
       "       [7. , 3.2, 4.7, 1.4],\n",
       "       [6.4, 3.2, 4.5, 1.5],\n",
       "       [6.9, 3.1, 4.9, 1.5],\n",
       "       [5.5, 2.3, 4. , 1.3],\n",
       "       [6.5, 2.8, 4.6, 1.5],\n",
       "       [5.7, 2.8, 4.5, 1.3],\n",
       "       [6.3, 3.3, 4.7, 1.6],\n",
       "       [4.9, 2.4, 3.3, 1. ],\n",
       "       [6.6, 2.9, 4.6, 1.3],\n",
       "       [5.2, 2.7, 3.9, 1.4],\n",
       "       [5. , 2. , 3.5, 1. ],\n",
       "       [5.9, 3. , 4.2, 1.5],\n",
       "       [6. , 2.2, 4. , 1. ],\n",
       "       [6.1, 2.9, 4.7, 1.4],\n",
       "       [5.6, 2.9, 3.6, 1.3],\n",
       "       [6.7, 3.1, 4.4, 1.4],\n",
       "       [5.6, 3. , 4.5, 1.5],\n",
       "       [5.8, 2.7, 4.1, 1. ],\n",
       "       [6.2, 2.2, 4.5, 1.5],\n",
       "       [5.6, 2.5, 3.9, 1.1],\n",
       "       [5.9, 3.2, 4.8, 1.8],\n",
       "       [6.1, 2.8, 4. , 1.3],\n",
       "       [6.3, 2.5, 4.9, 1.5],\n",
       "       [6.1, 2.8, 4.7, 1.2],\n",
       "       [6.4, 2.9, 4.3, 1.3],\n",
       "       [6.6, 3. , 4.4, 1.4],\n",
       "       [6.8, 2.8, 4.8, 1.4],\n",
       "       [6.7, 3. , 5. , 1.7],\n",
       "       [6. , 2.9, 4.5, 1.5],\n",
       "       [5.7, 2.6, 3.5, 1. ],\n",
       "       [5.5, 2.4, 3.8, 1.1],\n",
       "       [5.5, 2.4, 3.7, 1. ],\n",
       "       [5.8, 2.7, 3.9, 1.2],\n",
       "       [6. , 2.7, 5.1, 1.6],\n",
       "       [5.4, 3. , 4.5, 1.5],\n",
       "       [6. , 3.4, 4.5, 1.6],\n",
       "       [6.7, 3.1, 4.7, 1.5],\n",
       "       [6.3, 2.3, 4.4, 1.3],\n",
       "       [5.6, 3. , 4.1, 1.3],\n",
       "       [5.5, 2.5, 4. , 1.3],\n",
       "       [5.5, 2.6, 4.4, 1.2],\n",
       "       [6.1, 3. , 4.6, 1.4],\n",
       "       [5.8, 2.6, 4. , 1.2],\n",
       "       [5. , 2.3, 3.3, 1. ],\n",
       "       [5.6, 2.7, 4.2, 1.3],\n",
       "       [5.7, 3. , 4.2, 1.2],\n",
       "       [5.7, 2.9, 4.2, 1.3],\n",
       "       [6.2, 2.9, 4.3, 1.3],\n",
       "       [5.1, 2.5, 3. , 1.1],\n",
       "       [5.7, 2.8, 4.1, 1.3],\n",
       "       [6.3, 3.3, 6. , 2.5],\n",
       "       [5.8, 2.7, 5.1, 1.9],\n",
       "       [7.1, 3. , 5.9, 2.1],\n",
       "       [6.3, 2.9, 5.6, 1.8],\n",
       "       [6.5, 3. , 5.8, 2.2],\n",
       "       [7.6, 3. , 6.6, 2.1],\n",
       "       [4.9, 2.5, 4.5, 1.7],\n",
       "       [7.3, 2.9, 6.3, 1.8],\n",
       "       [6.7, 2.5, 5.8, 1.8],\n",
       "       [7.2, 3.6, 6.1, 2.5],\n",
       "       [6.5, 3.2, 5.1, 2. ],\n",
       "       [6.4, 2.7, 5.3, 1.9],\n",
       "       [6.8, 3. , 5.5, 2.1],\n",
       "       [5.7, 2.5, 5. , 2. ],\n",
       "       [5.8, 2.8, 5.1, 2.4],\n",
       "       [6.4, 3.2, 5.3, 2.3],\n",
       "       [6.5, 3. , 5.5, 1.8],\n",
       "       [7.7, 3.8, 6.7, 2.2],\n",
       "       [7.7, 2.6, 6.9, 2.3],\n",
       "       [6. , 2.2, 5. , 1.5],\n",
       "       [6.9, 3.2, 5.7, 2.3],\n",
       "       [5.6, 2.8, 4.9, 2. ],\n",
       "       [7.7, 2.8, 6.7, 2. ],\n",
       "       [6.3, 2.7, 4.9, 1.8],\n",
       "       [6.7, 3.3, 5.7, 2.1],\n",
       "       [7.2, 3.2, 6. , 1.8],\n",
       "       [6.2, 2.8, 4.8, 1.8],\n",
       "       [6.1, 3. , 4.9, 1.8],\n",
       "       [6.4, 2.8, 5.6, 2.1],\n",
       "       [7.2, 3. , 5.8, 1.6],\n",
       "       [7.4, 2.8, 6.1, 1.9],\n",
       "       [7.9, 3.8, 6.4, 2. ],\n",
       "       [6.4, 2.8, 5.6, 2.2],\n",
       "       [6.3, 2.8, 5.1, 1.5],\n",
       "       [6.1, 2.6, 5.6, 1.4],\n",
       "       [7.7, 3. , 6.1, 2.3],\n",
       "       [6.3, 3.4, 5.6, 2.4],\n",
       "       [6.4, 3.1, 5.5, 1.8],\n",
       "       [6. , 3. , 4.8, 1.8],\n",
       "       [6.9, 3.1, 5.4, 2.1],\n",
       "       [6.7, 3.1, 5.6, 2.4],\n",
       "       [6.9, 3.1, 5.1, 2.3],\n",
       "       [5.8, 2.7, 5.1, 1.9],\n",
       "       [6.8, 3.2, 5.9, 2.3],\n",
       "       [6.7, 3.3, 5.7, 2.5],\n",
       "       [6.7, 3. , 5.2, 2.3],\n",
       "       [6.3, 2.5, 5. , 1.9],\n",
       "       [6.5, 3. , 5.2, 2. ],\n",
       "       [6.2, 3.4, 5.4, 2.3],\n",
       "       [5.9, 3. , 5.1, 1.8]])"
      ]
     },
     "execution_count": 81,
     "metadata": {},
     "output_type": "execute_result"
    }
   ],
   "source": [
    "\n",
    "\n",
    "Iris_Data_array\n"
   ]
  },
  {
   "cell_type": "markdown",
   "id": "683d3830-3244-4fec-a471-6ac98611f4f4",
   "metadata": {},
   "source": [
    "## 推荐阅读"
   ]
  },
  {
   "cell_type": "markdown",
   "id": "a8f49fa3-6a70-4e60-88e3-0be933318a76",
   "metadata": {},
   "source": [
    "NumPy最权威的综述，请参考：  \n",
    "https://www.nature.com/articles/s41586-020-2649-2  \n",
    "MATLAB用户，使用NumPy之前请先阅读：  \n",
    "https://numpy.org/doc/stable/user/numpy-for-matlab-users.html  \n",
    "更多NumPy练习题，大家可以参考：  \n",
    "https://github.com/rougier/numpy-100/blob/master/100_Numpy_exercises_with_solutions.md  \n",
    "NumPy中的英文术语：  \n",
    "https://numpy.org/doc/stable/glossary.html"
   ]
  },
  {
   "cell_type": "code",
   "execution_count": 82,
   "id": "2a76d332-aee9-4e69-b1d7-20b5eac340a5",
   "metadata": {},
   "outputs": [],
   "source": [
    "# Repo: https://github.com/Visualize-ML\n",
    "# Book 1 Python for Beginners  |  From Basic Arithmetic to Machine Learning\n",
    "# Published and copyrighted by Tsinghua University Press\n",
    "# Beijing, China, 2023"
   ]
  }
 ],
 "metadata": {
  "kernelspec": {
   "display_name": "Python 3 (ipykernel)",
   "language": "python",
   "name": "python3"
  },
  "language_info": {
   "codemirror_mode": {
    "name": "ipython",
    "version": 3
   },
   "file_extension": ".py",
   "mimetype": "text/x-python",
   "name": "python",
   "nbconvert_exporter": "python",
   "pygments_lexer": "ipython3",
   "version": "3.10.9"
  }
 },
 "nbformat": 4,
 "nbformat_minor": 5
}
