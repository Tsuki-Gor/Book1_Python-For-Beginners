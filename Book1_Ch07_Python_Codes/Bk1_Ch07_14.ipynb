{
 "cells": [
  {
   "cell_type": "markdown",
   "id": "faaa61fd-60de-4399-afe8-5d6d48e7be18",
   "metadata": {},
   "source": [
    "Chapter 07\n",
    "# 分离横纵网格坐标\n",
    "Book_1《编程不难》 | 鸢尾花书：从加减乘除到机器学习 "
   ]
  },
  {
   "cell_type": "code",
   "id": "1d2bbae5-4d6e-4dde-bbd6-1103b4e85ae9",
   "metadata": {
    "ExecuteTime": {
     "end_time": "2024-08-11T09:39:53.108138Z",
     "start_time": "2024-08-11T09:39:53.097517Z"
    }
   },
   "source": [
    "# 自定义函数 \n",
    "def custom_meshgrid(x, y):\n",
    "\n",
    "    num_x = len(x); num_y = len(y)\n",
    "    X = []; Y = []\n",
    "    # 外层for循环\n",
    "    for i in range(num_y):\n",
    "        X_row = []; Y_row = []\n",
    "        # 内层for循环\n",
    "        for j in range(num_x):\n",
    "            X_row.append(x[j])\n",
    "            Y_row.append(y[i])\n",
    "        # 生成二维数组\n",
    "        X.append(X_row); Y.append(Y_row) # 这里是把X_row和Y_row这两个列表分别添加到X和Y中\n",
    "    \n",
    "    return X, Y"
   ],
   "outputs": [],
   "execution_count": 1
  },
  {
   "cell_type": "code",
   "id": "4d21cf61-4729-4bf9-8c8e-7ee2aa5142a7",
   "metadata": {
    "ExecuteTime": {
     "end_time": "2024-08-11T10:02:12.438189Z",
     "start_time": "2024-08-11T10:02:12.432669Z"
    }
   },
   "source": [
    "# 示例用法\n",
    "x = [0, 1, 2, 3, 4, 5] # 横坐标列表\n",
    "y = [0, 1, 2, 3]       # 纵坐标列表"
   ],
   "outputs": [],
   "execution_count": 2
  },
  {
   "cell_type": "code",
   "id": "871ce26a-cf5e-4472-ab8c-e48b3d6d07e3",
   "metadata": {
    "ExecuteTime": {
     "end_time": "2024-08-11T10:02:13.433408Z",
     "start_time": "2024-08-11T10:02:13.429030Z"
    }
   },
   "source": [
    "# 调用自定义函数\n",
    "X, Y = custom_meshgrid(x, y)\n",
    "print(\"X坐标：\"); print(X)\n",
    "print(\"Y坐标：\"); print(Y)\n",
    "# X和Y的对应组合，就是一个个网格坐标的坐标点"
   ],
   "outputs": [
    {
     "name": "stdout",
     "output_type": "stream",
     "text": [
      "X坐标：\n",
      "[[0, 1, 2, 3, 4, 5], [0, 1, 2, 3, 4, 5], [0, 1, 2, 3, 4, 5], [0, 1, 2, 3, 4, 5]]\n",
      "Y坐标：\n",
      "[[0, 0, 0, 0, 0, 0], [1, 1, 1, 1, 1, 1], [2, 2, 2, 2, 2, 2], [3, 3, 3, 3, 3, 3]]\n"
     ]
    }
   ],
   "execution_count": 3
  }
 ],
 "metadata": {
  "kernelspec": {
   "display_name": "Python 3 (ipykernel)",
   "language": "python",
   "name": "python3"
  },
  "language_info": {
   "codemirror_mode": {
    "name": "ipython",
    "version": 3
   },
   "file_extension": ".py",
   "mimetype": "text/x-python",
   "name": "python",
   "nbconvert_exporter": "python",
   "pygments_lexer": "ipython3",
   "version": "3.10.9"
  }
 },
 "nbformat": 4,
 "nbformat_minor": 5
}
