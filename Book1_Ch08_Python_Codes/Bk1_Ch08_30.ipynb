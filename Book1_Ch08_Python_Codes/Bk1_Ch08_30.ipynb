{
 "cells": [
  {
   "cell_type": "markdown",
   "id": "8d133756-c5a4-483b-a90c-34e49c5f3978",
   "metadata": {},
   "source": [
    "Chapter 8\n",
    "# 构造模块、包\n",
    "Book_1《编程不难》 | 鸢尾花书：从加减乘除到机器学习  "
   ]
  },
  {
   "cell_type": "markdown",
   "id": "6a2236ae-d715-43b2-b6f4-3cb15ae9cc44",
   "metadata": {},
   "source": [
    "## 使用自定义模块"
   ]
  },
  {
   "cell_type": "code",
   "execution_count": 2,
   "id": "2c5bda56-64f9-498b-982d-07126f4a6599",
   "metadata": {},
   "outputs": [
    {
     "name": "stdout",
     "output_type": "stream",
     "text": [
      "半径为 5 的圆的面积是 78.53981633974483\n",
      "半径为 5 的圆的周长是 31.41592653589793\n"
     ]
    }
   ],
   "source": [
    "import circle as cc\n",
    "\n",
    "r = 5\n",
    "area = cc.area(r)\n",
    "circumference = cc.circumference(r)\n",
    "\n",
    "print(\"半径为\", r, \"的圆的面积是\", area)\n",
    "print(\"半径为\", r, \"的圆的周长是\", circumference)"
   ]
  },
  {
   "cell_type": "markdown",
   "id": "0d673ffd-8dc7-42ac-928a-28d82e2c9624",
   "metadata": {},
   "source": [
    "## 使用自定义包"
   ]
  },
  {
   "cell_type": "code",
   "execution_count": 3,
   "id": "d05bbbc9-4ef0-4284-9d07-86ed9c253755",
   "metadata": {},
   "outputs": [],
   "source": [
    "from mylibrary.circle import area\n",
    "from mylibrary.linear_alg import inner_prod"
   ]
  },
  {
   "cell_type": "code",
   "execution_count": 4,
   "id": "710037b2-c222-4320-b0a2-096574a5c17f",
   "metadata": {},
   "outputs": [
    {
     "data": {
      "text/plain": [
       "50.26548245743669"
      ]
     },
     "execution_count": 4,
     "metadata": {},
     "output_type": "execute_result"
    }
   ],
   "source": [
    "r = 4\n",
    "area(r)"
   ]
  },
  {
   "cell_type": "code",
   "execution_count": 5,
   "id": "800b960b-ef60-408e-88c2-09c23f6a996b",
   "metadata": {},
   "outputs": [
    {
     "data": {
      "text/plain": [
       "165"
      ]
     },
     "execution_count": 5,
     "metadata": {},
     "output_type": "execute_result"
    }
   ],
   "source": [
    "# 定义向量a和b\n",
    "a = [1, 2, 3, 4, 5, 6, 7, 8, 9]\n",
    "b = a[::-1]\n",
    "\n",
    "# 调用函数\n",
    "inner_prod(a,b)"
   ]
  },
  {
   "metadata": {},
   "cell_type": "markdown",
   "source": "",
   "id": "873682295c4bc56b"
  },
  {
   "metadata": {},
   "cell_type": "markdown",
   "source": [
    "`a[::-1]` 是 Python 中的切片（slice）语法，用于反转列表 `a` 的元素顺序。下面是对此进行详细解释的逐步说明：\n",
    "\n",
    "### 1. 切片语法的基础：\n",
    "Python 的切片语法形式为 `list[start:stop:step]`，其中：\n",
    "- `start` 是起始索引，表示从哪个位置开始取值（包含这个位置）。\n",
    "- `stop` 是结束索引，表示取值到哪个位置结束（不包含这个位置）。\n",
    "- `step` 是步长，表示每次取值后跳过的元素个数。\n",
    "\n",
    "### 2. `a[::-1]` 的含义：\n",
    "在 `a[::-1]` 中，切片参数的具体含义如下：\n",
    "- `start` 省略：默认值为 `None`，即从列表的末尾开始。\n",
    "- `stop` 省略：默认值为 `None`，即取值到列表的起始位置。\n",
    "- `step = -1`：步长为 `-1`，表示逆向取值。\n",
    "\n",
    "### 3. 反转列表的具体操作：\n",
    "当使用 `a[::-1]` 时，由于 `start` 和 `stop` 都是 `None`，并且 `step` 为 `-1`，这表示从列表 `a` 的最后一个元素开始，按逆向的顺序依次取值，直到到达列表的第一个元素。因此，整个列表的顺序会被反转。\n",
    "\n",
    "### 4. 示例的应用：\n",
    "假设 `a = [1, 2, 3, 4, 5, 6, 7, 8, 9]`，当执行 `b = a[::-1]` 时：\n",
    "- `a[::-1]` 会生成一个新的列表 `b`，其中元素顺序为 `9, 8, 7, 6, 5, 4, 3, 2, 1`。\n",
    "\n",
    "完整的过程可以理解为：\n",
    "- 从 `a` 列表的最后一个元素开始取，即 `9`。\n",
    "- 然后跳到前一个元素 `8`，依次类推。\n",
    "- 最终生成一个顺序反转的列表。\n",
    "\n",
    "### 5. 代码验证：\n",
    "```python\n",
    "a = [1, 2, 3, 4, 5, 6, 7, 8, 9]\n",
    "b = a[::-1]\n",
    "print(b)\n",
    "```\n",
    "输出将是：\n",
    "```\n",
    "[9, 8, 7, 6, 5, 4, 3, 2, 1]\n",
    "```\n",
    "\n",
    "### 6. 切片的灵活性：\n",
    "Python 的切片操作非常灵活，不仅可以用于列表的反转，还可以根据需求指定不同的 `start`、`stop` 和 `step` 值来获取列表的任意子集。例如：\n",
    "- `a[2:8:2]` 会返回 `a` 列表从索引 2 到 7（不包含索引 8），且步长为 2 的子列表 `[3, 5, 7]`。\n",
    "- `a[::2]` 会返回每隔一个元素的子列表 `[1, 3, 5, 7, 9]`。\n",
    "\n",
    "通过 `a[::-1]` 这样的切片操作，可以简洁高效地实现各种复杂的数据处理需求。"
   ],
   "id": "ac8ce74b435586e7"
  }
 ],
 "metadata": {
  "kernelspec": {
   "display_name": "Python 3 (ipykernel)",
   "language": "python",
   "name": "python3"
  },
  "language_info": {
   "codemirror_mode": {
    "name": "ipython",
    "version": 3
   },
   "file_extension": ".py",
   "mimetype": "text/x-python",
   "name": "python",
   "nbconvert_exporter": "python",
   "pygments_lexer": "ipython3",
   "version": "3.10.9"
  }
 },
 "nbformat": 4,
 "nbformat_minor": 5
}
